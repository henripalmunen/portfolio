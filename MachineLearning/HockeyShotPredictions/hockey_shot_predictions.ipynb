{
 "cells": [
  {
   "cell_type": "code",
   "execution_count": 71,
   "id": "65c059c6-8eed-445e-9b40-d1ac4c374faa",
   "metadata": {
    "tags": []
   },
   "outputs": [
    {
     "name": "stdout",
     "output_type": "stream",
     "text": [
      "done\n"
     ]
    }
   ],
   "source": [
    "%config Completer.use_jedi = False  # enable code auto-completion\n",
    "import warnings\n",
    "\n",
    "import numpy as np\n",
    "import pandas as pd\n",
    "import torch\n",
    "import matplotlib.pyplot as plt\n",
    "import csv\n",
    "import seaborn as sns  #data visualization library\n",
    "from sklearn.linear_model import LogisticRegression\n",
    "from sklearn.ensemble import RandomForestClassifier\n",
    "from sklearn.metrics import accuracy_score, precision_score, confusion_matrix, f1_score, mean_squared_error  # evaluation metrics\n",
    "from sklearn.svm import LinearSVC\n",
    "from sklearn.neural_network import MLPClassifier\n",
    "from sklearn.neighbors import KNeighborsClassifier\n",
    "\n",
    "from sklearn.datasets import fetch_openml \n",
    "from sklearn.model_selection import train_test_split\n",
    "from sklearn.preprocessing import StandardScaler\n",
    "from sklearn.decomposition import PCA\n",
    "\n",
    "import multiprocessing\n",
    "from multiprocessing import Process, Lock, Pipe\n",
    "from multiprocessing.sharedctypes import Value, Array\n",
    "from ctypes import Structure, c_double\n",
    "\n",
    "from copy import deepcopy\n",
    "\n",
    "print('done')\n"
   ]
  },
  {
   "cell_type": "code",
   "execution_count": 72,
   "id": "ed9830cf-9c18-4c9a-90b8-e0fb4382d5ff",
   "metadata": {
    "tags": []
   },
   "outputs": [
    {
     "name": "stdout",
     "output_type": "stream",
     "text": [
      "done\n"
     ]
    }
   ],
   "source": [
    "    _TIMEOUT = 100 # seconds\n",
    "\n",
    "    mdf_raw = tuple([])\n",
    "    if __name__ == '__main__':\n",
    "        def get_data(r, ind):\n",
    "            try:\n",
    "                fnames = ['merged.csv'] # file downloadable at https://drive.google.com/file/d/1H8LNQs6woDZfWFHv7zMicmi0XyPzRwUD/view?usp=sharing\n",
    "                # see how merged.csv was formed at the bottom of the notebook\n",
    "                t = tuple(\n",
    "                    [pd.read_csv(fname, engine='python', quoting=csv.QUOTE_NONE) for fname in fnames]\n",
    "                )\n",
    "                r[ind] = t\n",
    "            except error as e:\n",
    "                print(error)\n",
    "\n",
    "        with multiprocessing.Manager() as manager:\n",
    "\n",
    "            b1 = manager.list([None])\n",
    "            p1 = Process(\n",
    "                target=get_data,\n",
    "                name='get_data_process',\n",
    "                args=(b1, 0)\n",
    "            )\n",
    "            p1.start()\n",
    "            p1.join(timeout=_TIMEOUT)\n",
    "            p1.terminate()\n",
    "\n",
    "            if p1.exitcode is None:\n",
    "                raise(TimeoutError(f'Training took more than {_TIMEOUT} seconds'))\n",
    "            mdf_raw = deepcopy(b1[0])[0]\n",
    "\n",
    "        print('done')\n"
   ]
  },
  {
   "cell_type": "code",
   "execution_count": 73,
   "id": "e3843334-cb8c-4bb1-8136-43548ca0b22a",
   "metadata": {
    "tags": []
   },
   "outputs": [
    {
     "name": "stdout",
     "output_type": "stream",
     "text": [
      "done\n"
     ]
    }
   ],
   "source": [
    "mdf = mdf_raw.copy(deep=True)\n",
    "#print(mdf)\n",
    "print('done')"
   ]
  },
  {
   "cell_type": "code",
   "execution_count": 74,
   "id": "a3a7b70c-e3d8-4897-9172-944b490214d7",
   "metadata": {
    "tags": []
   },
   "outputs": [
    {
     "name": "stdout",
     "output_type": "stream",
     "text": [
      "done\n"
     ]
    }
   ],
   "source": [
    "if 'home_team_id' in mdf.columns:\n",
    "    mdf['team_for_is_home'] = ''\n",
    "    mdf.loc[mdf['home_team_id'] == mdf['team_id_for'], 'team_for_is_home'] = -1\n",
    "    mdf.loc[mdf['home_team_id'] != mdf['team_id_for'], 'team_for_is_home'] = 1\n",
    "\n",
    "if 'goals_away' in mdf.columns and 'goals_home' in mdf.columns:\n",
    "    mdf['goals_against'] = ''\n",
    "    mdf['goals_against'] = np.where(mdf['team_for_is_home'] == 1,\n",
    "                                    mdf['goals_away'],\n",
    "                                    mdf['goals_home'])\n",
    "    mdf['goals_for'] = ''\n",
    "    mdf['goals_for'] = np.where(mdf['team_for_is_home'] == -1,\n",
    "                                    mdf['goals_away'],\n",
    "                                    mdf['goals_home'])\n",
    "    mdf.drop(columns=['goals_away', 'goals_home'], inplace=True)\n",
    "    c = mdf.columns.tolist()\n",
    "    c_rearranged = c[:7] + c[-2:] + c[7:-2]\n",
    "    mdf = mdf[c_rearranged]\n",
    "\n",
    "# To prevent overfitting\n",
    "mdf.drop(columns=['team_id_for', 'team_id_against', 'player_id', 'home_team_id'], inplace=True)\n",
    "\n",
    "print('done')"
   ]
  },
  {
   "cell_type": "code",
   "execution_count": 75,
   "id": "78286d16-83f9-48e5-aa2d-f0b441568b75",
   "metadata": {
    "tags": []
   },
   "outputs": [
    {
     "name": "stdout",
     "output_type": "stream",
     "text": [
      "done\n"
     ]
    }
   ],
   "source": [
    "mdf['home_rink_side_start'] = np.where(mdf['home_rink_side_start'] == 'left',\n",
    "                                    -1,\n",
    "                                    1)\n",
    "mdf['playerType'] = np.where(mdf['playerType'] == 'Scorer',\n",
    "                                    1,\n",
    "                                    0)\n",
    "mdf.rename(columns={'playerType': 'scored', 'type': 'game_type', 'periodType': 'period_type', 'periodTime': 'period_time'}, inplace=True)\n",
    "print(\"done\")"
   ]
  },
  {
   "cell_type": "code",
   "execution_count": 76,
   "id": "1e9ef3ae-802d-4520-85ea-481ed4b0498c",
   "metadata": {
    "tags": []
   },
   "outputs": [
    {
     "name": "stdout",
     "output_type": "stream",
     "text": [
      "Median horizontal distance from center court on scoring shots (in feet): 73.0\n",
      "Median vertical distance from center court on scoring shots (in feet): 0.0\n"
     ]
    }
   ],
   "source": [
    "\n",
    "mdf['x'] = mdf['team_for_is_home'] * mdf['home_rink_side_start'] * ((mdf['period'] % 2) * 2 - 1) * mdf['x']\n",
    "mdf['y'] = mdf['team_for_is_home'] * mdf['home_rink_side_start'] * ((mdf['period'] % 2) * 2 - 1) * mdf['y']\n",
    "mdf.drop(columns=['home_rink_side_start'], inplace=True)\n",
    "\n",
    "print(f'Median horizontal distance from center court on scoring shots (in feet): {mdf[mdf[\"scored\"] == 1][\"x\"].median()}')\n",
    "print(f'Median vertical distance from center court on scoring shots (in feet): {mdf[mdf[\"scored\"] == 1][\"y\"].median()}')\n"
   ]
  },
  {
   "cell_type": "code",
   "execution_count": 77,
   "id": "e4cf93c3-9238-421b-bbb0-0cd63d02a80f",
   "metadata": {
    "tags": []
   },
   "outputs": [
    {
     "name": "stdout",
     "output_type": "stream",
     "text": [
      "x: 65616\n",
      "y: 65598\n",
      "period: 0\n",
      "period_type: 0\n",
      "period_time: 0\n",
      "goals_against: 0\n",
      "goals_for: 0\n",
      "scored: 0\n",
      "game_type: 0\n",
      "team_for_is_home: 0\n"
     ]
    }
   ],
   "source": [
    "for col in mdf.columns:\n",
    "    print(f'{col}: {mdf[col].isnull().sum()}')"
   ]
  },
  {
   "cell_type": "code",
   "execution_count": 78,
   "id": "c026ca2f-9669-4507-b226-0a68187168d9",
   "metadata": {
    "tags": []
   },
   "outputs": [
    {
     "name": "stdout",
     "output_type": "stream",
     "text": [
      "done\n"
     ]
    }
   ],
   "source": [
    "\n",
    "cont_features = ['x', 'y', 'period', 'period_time', 'goals_for', 'goals_against']\n",
    "\n",
    "cat_features = list(filter(lambda col: col not in cont_features + [target_feature], mdf.columns))\n",
    "target_feature = 'scored'\n",
    "\n",
    "\n",
    "# Filter the dataframe to only include rows with a value for x and y\n",
    "\n",
    "\n",
    "for f in cont_features:\n",
    "    mdf[f] = mdf[f].to_frame().apply(lambda x: x.fillna(str(x.median())), axis=0)\n",
    "    mdf[f] = pd.to_numeric(mdf[f])\n",
    "\n",
    "for f in cat_features:\n",
    "    mdf[f] = mdf[f].to_frame().apply(lambda x: x.fillna(\"\"), axis=0)\n",
    "    mdf[f] = mdf[f].astype(\"category\").cat.codes\n",
    "\n",
    "# Standardize\n",
    "mdf[cont_features + cat_features] = StandardScaler().fit_transform(mdf[cont_features + cat_features])\n",
    "\n",
    "if mdf.isnull().values.any():\n",
    "    raise Exception(f\"Filling missing values failed\")\n",
    "\n",
    "print('done')"
   ]
  },
  {
   "cell_type": "code",
   "execution_count": 79,
   "id": "c769c0bf-2afe-4269-909e-2fac108ca56f",
   "metadata": {
    "tags": []
   },
   "outputs": [
    {
     "name": "stdout",
     "output_type": "stream",
     "text": [
      "          x         y    period  period_type  period_time  goals_against  \\\n",
      "0  0.785728 -0.513512 -1.192651     0.065152    -1.540089      -0.993954   \n",
      "1  1.077636 -0.285486 -1.192651     0.065152    -1.534384      -0.276035   \n",
      "2  0.528161 -0.399499 -1.192651     0.065152    -1.497303      -0.993954   \n",
      "3  0.201911  1.367705 -1.192651     0.065152    -1.314752      -0.276035   \n",
      "4 -1.652565  0.626619 -1.192651     0.065152    -1.283376      -0.993954   \n",
      "\n",
      "   goals_for  scored  game_type  team_for_is_home  \n",
      "0  -0.976019       0   0.290991         -0.984331  \n",
      "1  -0.976019       1   0.290991         -0.984331  \n",
      "2  -0.255148       0   0.290991          1.015918  \n",
      "3  -0.976019       0   0.290991         -0.984331  \n",
      "4  -0.255148       0   0.290991          1.015918  \n"
     ]
    }
   ],
   "source": [
    "print(mdf.head())"
   ]
  },
  {
   "cell_type": "code",
   "execution_count": 80,
   "id": "55a865f4-a153-4242-a6e4-a38f07149f67",
   "metadata": {
    "tags": []
   },
   "outputs": [
    {
     "name": "stdout",
     "output_type": "stream",
     "text": [
      "Row counts:\n",
      "\ttrain:\t489999\n",
      "\tval:\t140000\n",
      "\ttest:\t70001\n"
     ]
    }
   ],
   "source": [
    "# splits data randomly according to a 70/20/10 split\n",
    "def split_data(data: pd.DataFrame, training_data_percentage=0.70,\n",
    "               val_data_percentage=0.2, \n",
    "               max_rows=700000):\n",
    "    rows = min(data.shape[0], max_rows)\n",
    "    training_data, val_data, test_data = tuple(\n",
    "        pd.DataFrame(arr)\n",
    "        for arr in np.split(  # Halves array\n",
    "            data.sample(n=rows, random_state=42),\n",
    "            [int(rows * (training_data_percentage)),\n",
    "             int(rows * (training_data_percentage + val_data_percentage))],\n",
    "        )\n",
    "    )\n",
    "    return training_data, val_data, test_data\n",
    "\n",
    "training_data, val_data, test_data = split_data(mdf)\n",
    "\n",
    "print('Row counts:')\n",
    "for p in [('train', training_data), ('val', val_data), ('test', test_data)]:\n",
    "    print(f'\\t{p[0]}:\\t{p[1].shape[0]}')\n"
   ]
  },
  {
   "cell_type": "code",
   "execution_count": 81,
   "id": "c33b85c1-12fe-48e4-9be0-c42a395b3583",
   "metadata": {},
   "outputs": [
    {
     "name": "stdout",
     "output_type": "stream",
     "text": [
      "done\n"
     ]
    }
   ],
   "source": [
    "scaler = StandardScaler()\n",
    "\n",
    "x_train = training_data.drop([target_feature], axis=1)\n",
    "x_val = val_data.drop([target_feature], axis=1)\n",
    "x_test = test_data.drop([target_feature], axis=1)\n",
    "\n",
    "x_train = scaler.fit_transform(x_train)\n",
    "x_val = scaler.transform(x_val)\n",
    "x_test = scaler.fit_transform(x_test)\n",
    "\n",
    "y_train = training_data[target_feature]\n",
    "y_val = val_data[target_feature]\n",
    "y_test = test_data[target_feature]\n",
    "\n",
    "print('done')"
   ]
  },
  {
   "cell_type": "code",
   "execution_count": 82,
   "id": "fdadbf55-8f37-4788-a36c-64632c0af820",
   "metadata": {
    "tags": []
   },
   "outputs": [
    {
     "data": {
      "image/png": "[encoded data removed]",
      "text/plain": [
       "<Figure size 640x480 with 2 Axes>"
      ]
     },
     "metadata": {},
     "output_type": "display_data"
    },
    {
     "name": "stdout",
     "output_type": "stream",
     "text": [
      "F1: 0.7353204554176794\n",
      "Precision: 0.9141221374045801\n",
      "Accuracy: 0.9704432793817231\n",
      "Trained using the following features:\n",
      "\tx\n",
      "\ty\n",
      "\tperiod\n",
      "\tperiod_type\n",
      "\tperiod_time\n",
      "\tgoals_against\n",
      "\tgoals_for\n",
      "\tscored\n",
      "\tgame_type\n",
      "\tteam_for_is_home\n"
     ]
    }
   ],
   "source": [
    "\n",
    "# Support for model choice below this cell\n",
    "mdl = RandomForestClassifier(criterion='log_loss', max_depth=30)\n",
    "mdl.fit(x_train, y_train)\n",
    "preds_nd_array = mdl.predict(x_test)\n",
    "pred = torch.tensor([[num] for num in preds_nd_array])\n",
    "targ = torch.tensor([[num] for num in list(y_test)])\n",
    "\n",
    "def generate_confusion_matrix(y_true, y_pred):\n",
    "    # visualize the confusion matrix\n",
    "    ax = plt.subplot()\n",
    "    c_mat = confusion_matrix(y_true, y_pred)\n",
    "    sns.heatmap(c_mat, annot=True, fmt='g', ax=ax)\n",
    "\n",
    "    ax.set_xlabel('Predicted labels', fontsize=15)\n",
    "    ax.set_ylabel('True labels', fontsize=15)\n",
    "    ax.set_title('Confusion Matrix', fontsize=15)\n",
    "\n",
    "\n",
    "generate_confusion_matrix(targ, pred)\n",
    "plt.show()\n",
    "\n",
    "f1 = f1_score(targ, pred)\n",
    "prec = precision_score(targ, pred)\n",
    "acc = accuracy_score(targ, pred)\n",
    "\n",
    "print(f'F1: {f1}')\n",
    "print(f'Precision: {prec}')\n",
    "print(f'Accuracy: {acc}')\n",
    "print(f'Trained using the following features:\\n\\t{(chr(10) + chr(9)).join(mdf.columns)}')"
   ]
  },
  {
   "cell_type": "code",
   "execution_count": null,
   "id": "d5490eb7-44cb-4420-9048-5e1106e2af92",
   "metadata": {
    "tags": []
   },
   "outputs": [],
   "source": [
    "# Train and get predictions\n",
    "\n",
    "raise Exception(\"the following cells are for optimization purposes and take a long time to run, comment out this exception if you really want to see them do their thing\")\n",
    "\n",
    "f1s = []\n",
    "val_errors = []\n",
    "depths = [3, 5, 10, 20, 30, 50]\n",
    "for depth in depths:\n",
    "    mdl = RandomForestClassifier(criterion='log_loss', max_depth=depth)\n",
    "    mdl.fit(x_train, y_train)\n",
    "    preds_nd_array = mdl.predict(x_val)\n",
    "    pred = torch.tensor([[num] for num in preds_nd_array])\n",
    "    targ = torch.tensor([[num] for num in list(y_val)])\n",
    "    f1 = f1_score(targ, pred)\n",
    "    mse = mean_squared_error(targ, pred)\n",
    "    f1s.append(f1)\n",
    "    val_errors.append(mse)\n",
    "    print(f1)\n",
    "\n",
    "print('done')"
   ]
  },
  {
   "cell_type": "code",
   "execution_count": null,
   "id": "2fad8bc1-30c5-4aae-8ef2-6aa0ab0e80d9",
   "metadata": {
    "tags": []
   },
   "outputs": [],
   "source": [
    "print(val_errors[4])"
   ]
  },
  {
   "cell_type": "code",
   "execution_count": null,
   "id": "dcb61bfb-b12d-4992-abbe-68a2e11cb213",
   "metadata": {
    "tags": []
   },
   "outputs": [],
   "source": [
    "# plot results\n",
    "fig, ax = plt.subplots()\n",
    "ax.set_xlabel(\"max_depth\")\n",
    "ax.set_yticks([0,1])\n",
    "ax.set_ylabel('Validation error')\n",
    "ax.set_title(\"Random forest classifier\")\n",
    "ax.plot(depths, val_errors)\n",
    "ax.set_axis_on()\n",
    "ax.legend()\n",
    "plt.show()"
   ]
  },
  {
   "cell_type": "code",
   "execution_count": null,
   "id": "c3e22312-ff18-4e47-a7e8-2af95d407fa8",
   "metadata": {
    "tags": []
   },
   "outputs": [],
   "source": [
    "# Train and get predictions\n",
    "\n",
    "f1s = []\n",
    "val_errors = []\n",
    "num_layers = [1,2,4,6,8]\n",
    "for size in num_layers:\n",
    "    size_array = tuple([15]*size)\n",
    "    mdl = MLPClassifier(hidden_layer_sizes=size_array)\n",
    "    mdl.fit(x_train, y_train)\n",
    "    preds_nd_array = mdl.predict(x_val)\n",
    "    pred = torch.tensor([[num] for num in preds_nd_array])\n",
    "    targ = torch.tensor([[num] for num in list(y_val)])\n",
    "    f1 = f1_score(targ, pred)\n",
    "    mse = mean_squared_error(targ, pred)\n",
    "    f1s.append(f1)\n",
    "    val_errors.append(mse)\n",
    "    print(mse, f1)\n",
    "\n",
    "print('done')\n",
    "        "
   ]
  },
  {
   "cell_type": "code",
   "execution_count": null,
   "id": "d9c2fd6f-d8ea-4520-83e2-0e48b2d8824d",
   "metadata": {
    "tags": []
   },
   "outputs": [],
   "source": [
    "# plot results\n",
    "fig, ax = plt.subplots()\n",
    "ax.set_xlabel(\"num_layers\")\n",
    "ax.set_yticks([0,1])\n",
    "ax.set_ylabel('Validation error')\n",
    "ax.set_title(\"MLPClassifier\")\n",
    "ax.plot(num_layers, val_errors)\n",
    "ax.set_axis_on()\n",
    "ax.legend()\n",
    "plt.show()"
   ]
  },
  {
   "cell_type": "code",
   "execution_count": null,
   "id": "80ea555b-aacc-46aa-bd8b-905cbe54e31a",
   "metadata": {
    "tags": []
   },
   "outputs": [],
   "source": [
    "# NOTE this snippet of code was run locally because of kernel timeout issues on the jupyter server\n",
    "\n",
    "raise Exception(\"This snippet of code can not be run on jupyter server due to kernel timeout issues and needs three files (see below) downloaded\")\n",
    "\n",
    "import pandas as pd\n",
    "import numpy as np\n",
    "\n",
    "def get_data():\n",
    "    fnames = ('game_plays.csv', 'game_plays_players.csv', 'game.csv')\n",
    "    # Files downloadable at https://www.kaggle.com/datasets/martinellis/nhl-game-data\n",
    "    gp, gpp, g = tuple(\n",
    "        [pd.read_csv(fname) for fname in fnames]\n",
    "    )\n",
    "    gp.drop(columns=['st_x', 'st_y', 'dateTime', 'secondaryType', 'description', 'periodTimeRemaining'], inplace=True)\n",
    "    game_plays_players_filtered = gpp[\n",
    "        gpp['playerType'].isin(['Shooter', 'Scorer'])\n",
    "    ]\n",
    "    game_plays_filtered.drop(columns=['event'])\n",
    "    game_plays_players_filtered.drop(columns=['game_id'], inplace=True)\n",
    "\n",
    "    g = g[['game_id', 'type', 'home_rink_side_start', 'home_team_id']]\n",
    "\n",
    "    # mdf = merged dataframe\n",
    "    mdf = pd.merge(game_plays_players_filtered, game_plays_filtered, on='play_id', how='left')\n",
    "    mdf = pd.merge(mdf, g, on='game_id', how='left')\n",
    "    mdf.drop(columns=['game_id', 'event', 'play_id'], inplace=True)\n",
    "    mdf.to_csv('merged.csv', index=False)\n",
    "\n",
    "get_data()\n"
   ]
  }
 ],
 "metadata": {
  "kernelspec": {
   "display_name": "Python 3",
   "language": "python",
   "name": "python3"
  },
  "language_info": {
   "codemirror_mode": {
    "name": "ipython",
    "version": 3
   },
   "file_extension": ".py",
   "mimetype": "text/x-python",
   "name": "python",
   "nbconvert_exporter": "python",
   "pygments_lexer": "ipython3",
   "version": "3.10.8"
  }
 },
 "nbformat": 4,
 "nbformat_minor": 5
}
